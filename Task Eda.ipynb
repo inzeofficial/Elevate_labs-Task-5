{
 "cells": [
  {
   "cell_type": "code",
   "execution_count": null,
   "id": "bd3a1c6b-1591-4af0-b9b0-687468ea9f96",
   "metadata": {
    "scrolled": true
   },
   "outputs": [],
   "source": [
    "# Exploratory Data Analysis Task 5\n",
    "import pandas as pd\n",
    "# This step for import libraries\n",
    "df = pd.read_csv('D:/Course/Project Elevate/titanic.csv') # This is the file path\n",
    "df.info() # This shows the information about the column(Example: int,str)\n",
    "\n",
    "display(df.describe(include='all'))\n",
    "#This is Key Categorical Counts of all mention column in the below (Example:male= count, female=count) \n",
    "for col in ['Sex','Pclass','Embarked']:\n",
    "    if col in df.columns:\n",
    "        print(df[col].value_counts(dropna=False))"
   ]
  },
  {
   "cell_type": "code",
   "execution_count": null,
   "id": "f1efbe81-c930-4981-83d3-bdb7cc499307",
   "metadata": {
    "scrolled": true
   },
   "outputs": [],
   "source": [
    "# Visualisation Seaborn and Matplotlib\n",
    "import seaborn as sns\n",
    "import matplotlib.pyplot as plt\n",
    "\n",
    "# Pair Plot\n",
    "g = sns.pairplot(df[['Age','Fare','Pclass','Survived']].dropna(), hue='Survived', diag_kind='hist')\n",
    "g.fig.suptitle('Survived Pclass Age SibSp Parch Fare ',fontsize =10)\n",
    "g.fig.subplots_adjust(top=0.80)\n",
    "plt.show()\n",
    "\n",
    "# Heatmap PassengerId, Survived, Pclass, Age ,SibSp, Parch, Fare\n",
    "num_cols = ['PassengerId','Survived','Pclass','Age','SibSp','Parch','Fare']\n",
    "corr = df[num_cols].corr()\n",
    "sns.heatmap(corr, annot=True, fmt=\".2f\", cmap='magma')\n",
    "plt.title('Correlation Matrix', fontsize =10)\n",
    "plt.show()"
   ]
  },
  {
   "cell_type": "code",
   "execution_count": null,
   "id": "bded6aa5-7bc2-4735-a899-aee0fa2915ff",
   "metadata": {
    "scrolled": true
   },
   "outputs": [],
   "source": [
    "# Histogram Age Fare SibSp Parch\n",
    "import matplotlib.pyplot as plt\n",
    "for col in ['Age','Fare','SibSp','Parch']:\n",
    "    plt.figure(figsize=(6,3))\n",
    "    plt.hist(df[col].dropna(), bins=30)\n",
    "    plt.title(f'Histogram of {col}')\n",
    "    plt.show"
   ]
  },
  {
   "cell_type": "code",
   "execution_count": null,
   "id": "3d06fb9b-66d5-48f6-ac43-b66f406423f4",
   "metadata": {
    "scrolled": true
   },
   "outputs": [],
   "source": [
    "# BoxPlots Age vs Fare\n",
    "import matplotlib.pyplot as plt\n",
    "for col in ['Age','Fare']:\n",
    "    plt.figure(figsize=(6,4))\n",
    "    survived =df[df['Survived']==1][col].dropna()\n",
    "    non_surv = df[df['Survived']==0][col].dropna()\n",
    "    plt.boxplot([non_surv, survived], tick_labels = ['Not Survived', 'Survived'])\n",
    "    plt.title(f'Boxplot of {col} by Survived')\n",
    "    plt.show"
   ]
  },
  {
   "cell_type": "code",
   "execution_count": null,
   "id": "bcba5f9d-4368-4493-b80b-aaa90e6d4ff5",
   "metadata": {
    "scrolled": true
   },
   "outputs": [],
   "source": [
    "# Scatter Age vs Fare Colored by survival\n",
    "plt.figure(figsize=(6,4))\n",
    "a0 = df[df['Survived']==1].dropna(subset=['Age','Fare'])\n",
    "a1 = df[df['Survived']==0].dropna(subset=['Age','Fare'])\n",
    "plt.scatter(a0['Age'], a0['Fare'], alpha=0.5, label= 'Not Survived')\n",
    "plt.scatter(a1['Age'], a1['Fare'], alpha=0.7, label= 'Survived')\n",
    "plt.xlabel('Age'); plt.ylabel('Fare'); plt.legend(); plt.title('Age vs Fare by Survival', color='darkgreen')\n",
    "plt.show"
   ]
  }
 ],
 "metadata": {
  "kernelspec": {
   "display_name": "Python 3 (ipykernel)",
   "language": "python",
   "name": "python3"
  },
  "language_info": {
   "codemirror_mode": {
    "name": "ipython",
    "version": 3
   },
   "file_extension": ".py",
   "mimetype": "text/x-python",
   "name": "python",
   "nbconvert_exporter": "python",
   "pygments_lexer": "ipython3",
   "version": "3.13.5"
  }
 },
 "nbformat": 4,
 "nbformat_minor": 5
}
